{
 "cells": [
  {
   "cell_type": "markdown",
   "id": "3395e666-163f-4a53-b933-04a4ba5afe2f",
   "metadata": {},
   "source": [
    "Jupyter Notebook"
   ]
  },
  {
   "cell_type": "code",
   "execution_count": 1,
   "id": "0e6c9a6a-2585-451b-83a9-ce6d15d97b25",
   "metadata": {},
   "outputs": [
    {
     "name": "stdout",
     "output_type": "stream",
     "text": [
      "Abdul Azeem Ansari\n"
     ]
    }
   ],
   "source": [
    "print(\"Abdul Azeem Ansari\")"
   ]
  },
  {
   "cell_type": "code",
   "execution_count": 2,
   "id": "533ea9be-cf63-4d06-9be7-98d10a60046f",
   "metadata": {},
   "outputs": [
    {
     "name": "stdout",
     "output_type": "stream",
     "text": [
      "IIT2024243\n"
     ]
    }
   ],
   "source": [
    "print(\"IIT2024243\")"
   ]
  },
  {
   "cell_type": "code",
   "execution_count": null,
   "id": "eb36cebf-fb7d-4f3e-9a18-6dac6596f9e9",
   "metadata": {},
   "outputs": [],
   "source": []
  }
 ],
 "metadata": {
  "kernelspec": {
   "display_name": "Python 3 (ipykernel)",
   "language": "python",
   "name": "python3"
  },
  "language_info": {
   "codemirror_mode": {
    "name": "ipython",
    "version": 3
   },
   "file_extension": ".py",
   "mimetype": "text/x-python",
   "name": "python",
   "nbconvert_exporter": "python",
   "pygments_lexer": "ipython3",
   "version": "3.11.3"
  }
 },
 "nbformat": 4,
 "nbformat_minor": 5
}
