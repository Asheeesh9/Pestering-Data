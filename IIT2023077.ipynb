{
 "cells": [
  {
   "cell_type": "markdown",
   "id": "af04d682-90b5-4812-8930-7a75505a1c11",
   "metadata": {},
   "source": [
    "Jupyter Notebook"
   ]
  },
  {
   "cell_type": "code",
   "execution_count": 1,
   "id": "2c10ae87-8858-44c5-bf86-f09a67d4272c",
   "metadata": {},
   "outputs": [
    {
     "name": "stdout",
     "output_type": "stream",
     "text": [
      "Name: Samandeep Singh Sidhu\n"
     ]
    }
   ],
   "source": [
    "print(\"Name: Samandeep Singh Sidhu\")\n"
   ]
  },
  {
   "cell_type": "code",
   "execution_count": 2,
   "id": "f8559254-7c97-46e3-801d-038ea57da28f",
   "metadata": {},
   "outputs": [
    {
     "name": "stdout",
     "output_type": "stream",
     "text": [
      "Enrollment Number: IIT2023077\n"
     ]
    }
   ],
   "source": [
    "print(\"Enrollment Number: IIT2023077\")"
   ]
  },
  {
   "cell_type": "code",
   "execution_count": null,
   "id": "6b964a30-fa51-4400-9ba9-b845c5995554",
   "metadata": {},
   "outputs": [],
   "source": []
  }
 ],
 "metadata": {
  "kernelspec": {
   "display_name": "Python 3 (ipykernel)",
   "language": "python",
   "name": "python3"
  },
  "language_info": {
   "codemirror_mode": {
    "name": "ipython",
    "version": 3
   },
   "file_extension": ".py",
   "mimetype": "text/x-python",
   "name": "python",
   "nbconvert_exporter": "python",
   "pygments_lexer": "ipython3",
   "version": "3.12.6"
  }
 },
 "nbformat": 4,
 "nbformat_minor": 5
}
